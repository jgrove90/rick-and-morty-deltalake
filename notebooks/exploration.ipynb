{
 "cells": [
  {
   "cell_type": "code",
   "execution_count": 8,
   "metadata": {},
   "outputs": [],
   "source": [
    "import sys\n",
    "\n",
    "sys.path.append('/home/jgrove/code/rick-and-morty-elt/src/')\n",
    "from extract import *\n",
    "from transform import *\n",
    "from load import *\n",
    "from data_classes import *\n",
    "from app_utils import *"
   ]
  },
  {
   "cell_type": "code",
   "execution_count": 9,
   "metadata": {},
   "outputs": [
    {
     "data": {
      "text/html": [
       "<div>\n",
       "<style scoped>\n",
       "    .dataframe tbody tr th:only-of-type {\n",
       "        vertical-align: middle;\n",
       "    }\n",
       "\n",
       "    .dataframe tbody tr th {\n",
       "        vertical-align: top;\n",
       "    }\n",
       "\n",
       "    .dataframe thead th {\n",
       "        text-align: right;\n",
       "    }\n",
       "</style>\n",
       "<table border=\"1\" class=\"dataframe\">\n",
       "  <thead>\n",
       "    <tr style=\"text-align: right;\">\n",
       "      <th></th>\n",
       "      <th>ep_id</th>\n",
       "      <th>name</th>\n",
       "      <th>air_date</th>\n",
       "      <th>episode</th>\n",
       "    </tr>\n",
       "  </thead>\n",
       "  <tbody>\n",
       "    <tr>\n",
       "      <th>0</th>\n",
       "      <td>1</td>\n",
       "      <td>Pilot</td>\n",
       "      <td>2013-12-02</td>\n",
       "      <td>S01E01</td>\n",
       "    </tr>\n",
       "    <tr>\n",
       "      <th>1</th>\n",
       "      <td>2</td>\n",
       "      <td>Lawnmower Dog</td>\n",
       "      <td>2013-12-09</td>\n",
       "      <td>S01E02</td>\n",
       "    </tr>\n",
       "    <tr>\n",
       "      <th>2</th>\n",
       "      <td>3</td>\n",
       "      <td>Anatomy Park</td>\n",
       "      <td>2013-12-16</td>\n",
       "      <td>S01E03</td>\n",
       "    </tr>\n",
       "    <tr>\n",
       "      <th>3</th>\n",
       "      <td>4</td>\n",
       "      <td>M. Night Shaym-Aliens!</td>\n",
       "      <td>2014-01-13</td>\n",
       "      <td>S01E04</td>\n",
       "    </tr>\n",
       "    <tr>\n",
       "      <th>4</th>\n",
       "      <td>5</td>\n",
       "      <td>Meeseeks and Destroy</td>\n",
       "      <td>2014-01-20</td>\n",
       "      <td>S01E05</td>\n",
       "    </tr>\n",
       "  </tbody>\n",
       "</table>\n",
       "</div>"
      ],
      "text/plain": [
       "   ep_id                    name    air_date episode\n",
       "0      1                   Pilot  2013-12-02  S01E01\n",
       "1      2           Lawnmower Dog  2013-12-09  S01E02\n",
       "2      3            Anatomy Park  2013-12-16  S01E03\n",
       "3      4  M. Night Shaym-Aliens!  2014-01-13  S01E04\n",
       "4      5    Meeseeks and Destroy  2014-01-20  S01E05"
      ]
     },
     "execution_count": 9,
     "metadata": {},
     "output_type": "execute_result"
    }
   ],
   "source": [
    "goldEpisode = dt.DeltaTable(\"./deltalake/rick_and_morty/gold/episode\").to_pandas().head(5)\n",
    "\n",
    "\n",
    "goldEpisode"
   ]
  }
 ],
 "metadata": {
  "kernelspec": {
   "display_name": "Python 3",
   "language": "python",
   "name": "python3"
  },
  "language_info": {
   "codemirror_mode": {
    "name": "ipython",
    "version": 3
   },
   "file_extension": ".py",
   "mimetype": "text/x-python",
   "name": "python",
   "nbconvert_exporter": "python",
   "pygments_lexer": "ipython3",
   "version": "3.11.4"
  },
  "orig_nbformat": 4
 },
 "nbformat": 4,
 "nbformat_minor": 2
}
