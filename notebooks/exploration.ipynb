{
 "cells": [
  {
   "cell_type": "code",
   "execution_count": 1,
   "metadata": {},
   "outputs": [],
   "source": [
    "import json\n",
    "import pandas as pd \n",
    "import deltalake as dt\n",
    "\n",
    "import os\n",
    "# change directory to ufo-deltalake\n",
    "os.chdir(os.path.dirname(os.getcwd()))\n"
   ]
  },
  {
   "cell_type": "code",
   "execution_count": 6,
   "metadata": {},
   "outputs": [],
   "source": [
    "from table_manager import BRONZE_CHARACTERS_TABLE, DeltaTableManager\n",
    "\n",
    "\n",
    "with open(\"character_data.json\", 'r') as f:\n",
    "    data = json.load(f)['results']\n",
    "\n",
    "    df = pd.DataFrame(data)\n",
    "\n",
    "    DeltaTableManager(df).writeToDeltaLake(BRONZE_CHARACTERS_TABLE)\n",
    "\n"
   ]
  },
  {
   "cell_type": "code",
   "execution_count": null,
   "metadata": {},
   "outputs": [],
   "source": [
    "\n",
    "\n",
    "dt_bronze = dt.DeltaTable(\"./deltalake/rick_and_morty/bronze/characters\")\n",
    "\n",
    "dt_bronze.to_pandas()"
   ]
  },
  {
   "cell_type": "code",
   "execution_count": null,
   "metadata": {},
   "outputs": [],
   "source": [
    "dt_silver = dt.DeltaTable(\"./deltalake/rick_and_morty/silver/characters\")\n",
    "\n",
    "dt_silver.to_pandas()"
   ]
  }
 ],
 "metadata": {
  "kernelspec": {
   "display_name": "Python 3",
   "language": "python",
   "name": "python3"
  },
  "language_info": {
   "codemirror_mode": {
    "name": "ipython",
    "version": 3
   },
   "file_extension": ".py",
   "mimetype": "text/x-python",
   "name": "python",
   "nbconvert_exporter": "python",
   "pygments_lexer": "ipython3",
   "version": "3.11.4"
  },
  "orig_nbformat": 4
 },
 "nbformat": 4,
 "nbformat_minor": 2
}
